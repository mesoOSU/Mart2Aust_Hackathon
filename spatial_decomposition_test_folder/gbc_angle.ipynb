{
 "cells": [
  {
   "cell_type": "code",
   "execution_count": null,
   "metadata": {},
   "outputs": [],
   "source": [
    "\n",
    "q = np.random.random([10,4])\n",
    "q = q/np.linalg.norm(q)\n",
    "print(q)"
   ]
  },
  {
   "cell_type": "code",
   "execution_count": 79,
   "metadata": {},
   "outputs": [
    {
     "name": "stdout",
     "output_type": "stream",
     "text": [
      "[ True  True  True  True  True False False False False False]\n",
      "[False False False False False  True  True  True  True  True]\n",
      "<bound method Misorientation.map_into_symmetry_reduced_zone of Orientation (10,) m-3m\n",
      "[[0.6205 0.491  0.0261 0.611 ]\n",
      " [0.1706 0.514  0.7679 0.3422]\n",
      " [0.9171 0.3253 0.1682 0.1577]\n",
      " [0.2648 0.6835 0.5461 0.4054]\n",
      " [0.3538 0.0331 0.8923 0.2785]\n",
      " [0.2215 0.9067 0.1976 0.2998]\n",
      " [0.2207 0.4105 0.8006 0.3765]\n",
      " [0.251  0.6839 0.3212 0.605 ]\n",
      " [0.419  0.4011 0.2651 0.7702]\n",
      " [0.1411 0.6278 0.6547 0.3967]]>\n",
      "[ True  True  True  True  True False False False False False]\n",
      "[False False False False False  True  True  True  True  True]\n"
     ]
    },
    {
     "ename": "TypeError",
     "evalue": "'method' object is not subscriptable",
     "output_type": "error",
     "traceback": [
      "\u001b[0;31m---------------------------------------------------------------------------\u001b[0m",
      "\u001b[0;31mTypeError\u001b[0m                                 Traceback (most recent call last)",
      "\u001b[1;32m/Users/pilchak/PycharmProjects/Hackathon/Mart2Aust_Hackathon/spatial_decomposition_test_folder/gbc_angle.ipynb Cell 2'\u001b[0m in \u001b[0;36m<cell line: 50>\u001b[0;34m()\u001b[0m\n\u001b[1;32m     <a href='vscode-notebook-cell:/Users/pilchak/PycharmProjects/Hackathon/Mart2Aust_Hackathon/spatial_decomposition_test_folder/gbc_angle.ipynb#ch0000001?line=42'>43</a>\u001b[0m \u001b[39mprint\u001b[39m(Dr)\n\u001b[1;32m     <a href='vscode-notebook-cell:/Users/pilchak/PycharmProjects/Hackathon/Mart2Aust_Hackathon/spatial_decomposition_test_folder/gbc_angle.ipynb#ch0000001?line=44'>45</a>\u001b[0m \u001b[39m# define as orix orientations and then hit that with o1*~o2\u001b[39;00m\n\u001b[1;32m     <a href='vscode-notebook-cell:/Users/pilchak/PycharmProjects/Hackathon/Mart2Aust_Hackathon/spatial_decomposition_test_folder/gbc_angle.ipynb#ch0000001?line=45'>46</a>\u001b[0m \n\u001b[1;32m     <a href='vscode-notebook-cell:/Users/pilchak/PycharmProjects/Hackathon/Mart2Aust_Hackathon/spatial_decomposition_test_folder/gbc_angle.ipynb#ch0000001?line=46'>47</a>\u001b[0m \u001b[39m#print(o1)\u001b[39;00m\n\u001b[1;32m     <a href='vscode-notebook-cell:/Users/pilchak/PycharmProjects/Hackathon/Mart2Aust_Hackathon/spatial_decomposition_test_folder/gbc_angle.ipynb#ch0000001?line=47'>48</a>\u001b[0m \u001b[39m#print(s1)\u001b[39;00m\n\u001b[1;32m     <a href='vscode-notebook-cell:/Users/pilchak/PycharmProjects/Hackathon/Mart2Aust_Hackathon/spatial_decomposition_test_folder/gbc_angle.ipynb#ch0000001?line=48'>49</a>\u001b[0m \u001b[39m#print(5*degree)\u001b[39;00m\n\u001b[0;32m---> <a href='vscode-notebook-cell:/Users/pilchak/PycharmProjects/Hackathon/Mart2Aust_Hackathon/spatial_decomposition_test_folder/gbc_angle.ipynb#ch0000001?line=49'>50</a>\u001b[0m criterion \u001b[39m=\u001b[39m gbc_angle(q1,Dl,Dr,s1,\u001b[39m5\u001b[39;49m\u001b[39m*\u001b[39;49mdegree) \n\u001b[1;32m     <a href='vscode-notebook-cell:/Users/pilchak/PycharmProjects/Hackathon/Mart2Aust_Hackathon/spatial_decomposition_test_folder/gbc_angle.ipynb#ch0000001?line=50'>51</a>\u001b[0m \u001b[39mprint\u001b[39m(criterion)\n",
      "\u001b[1;32m/Users/pilchak/PycharmProjects/Hackathon/Mart2Aust_Hackathon/spatial_decomposition_test_folder/gbc_angle.ipynb Cell 2'\u001b[0m in \u001b[0;36mgbc_angle\u001b[0;34m(q1, Dl, Dr, s1, threshold)\u001b[0m\n\u001b[1;32m      <a href='vscode-notebook-cell:/Users/pilchak/PycharmProjects/Hackathon/Mart2Aust_Hackathon/spatial_decomposition_test_folder/gbc_angle.ipynb#ch0000001?line=6'>7</a>\u001b[0m \u001b[39mprint\u001b[39m(Dl)\n\u001b[1;32m      <a href='vscode-notebook-cell:/Users/pilchak/PycharmProjects/Hackathon/Mart2Aust_Hackathon/spatial_decomposition_test_folder/gbc_angle.ipynb#ch0000001?line=7'>8</a>\u001b[0m \u001b[39mprint\u001b[39m(Dr)\n\u001b[0;32m---> <a href='vscode-notebook-cell:/Users/pilchak/PycharmProjects/Hackathon/Mart2Aust_Hackathon/spatial_decomposition_test_folder/gbc_angle.ipynb#ch0000001?line=9'>10</a>\u001b[0m o1 \u001b[39m=\u001b[39m qs[Dl]\n\u001b[1;32m     <a href='vscode-notebook-cell:/Users/pilchak/PycharmProjects/Hackathon/Mart2Aust_Hackathon/spatial_decomposition_test_folder/gbc_angle.ipynb#ch0000001?line=10'>11</a>\u001b[0m o2 \u001b[39m=\u001b[39m qs[Dr]\n\u001b[1;32m     <a href='vscode-notebook-cell:/Users/pilchak/PycharmProjects/Hackathon/Mart2Aust_Hackathon/spatial_decomposition_test_folder/gbc_angle.ipynb#ch0000001?line=12'>13</a>\u001b[0m mis \u001b[39m=\u001b[39m o1\u001b[39m*\u001b[39m\u001b[39m~\u001b[39mo2 \u001b[39m#angle(orientation(q(Dl),CS),orientation(q(Dr),CS))\u001b[39;00m\n",
      "\u001b[0;31mTypeError\u001b[0m: 'method' object is not subscriptable"
     ]
    }
   ],
   "source": [
    "def gbc_angle(q1,Dl,Dr,s1,threshold):\n",
    " # still needs **kwargs to enable two misorientation angle choices like MTEX\n",
    " qs = Orientation(q1,s1)\n",
    " qs = qs.map_into_symmetry_reduced_zone\n",
    " \n",
    " print(qs)\n",
    " print(Dl)\n",
    " print(Dr)\n",
    "\n",
    " o1 = qs[Dl]\n",
    " o2 = qs[Dr]\n",
    "\n",
    " mis = o1*~o2 #angle(orientation(q(Dl),CS),orientation(q(Dr),CS))\n",
    "\n",
    " #print(d.angle) \n",
    " # if np.ndarray.size(threshold) == 1:\n",
    " criterion = mis.angle < threshold\n",
    "\n",
    " return criterion\n",
    "# else:\n",
    "#  criterion = 0.5 * [[d.angle < threshold[1]] + [d.angle < threshold[2]]]\n",
    "#  print(criterion)\n",
    "# return criterion\n",
    "\n",
    "from orix.quaternion import Orientation\n",
    "from orix.quaternion import symmetry\n",
    "import numpy as np\n",
    "\n",
    "s1 = symmetry.get_point_group(226)\n",
    "\n",
    "degree = np.pi/180\n",
    "\n",
    "# orix wants radians, let's create some fake ones for now\n",
    "q1 = Orientation(q,symmetry=s1)\n",
    "\n",
    "Dl = np.zeros(10,dtype=bool)\n",
    "Dl[0:5]=1\n",
    "print(Dl)\n",
    "\n",
    "Dr = np.zeros(10,dtype=bool)\n",
    "Dr[5:10]=1\n",
    "print(Dr)\n",
    "\n",
    "# define as orix orientations and then hit that with o1*~o2\n",
    "\n",
    "#print(o1)\n",
    "#print(s1)\n",
    "#print(5*degree)\n",
    "criterion = gbc_angle(q1,Dl,Dr,s1,5*degree) \n",
    "print(criterion)\n",
    "\n",
    "\n"
   ]
  },
  {
   "cell_type": "code",
   "execution_count": 9,
   "metadata": {},
   "outputs": [
    {
     "name": "stdout",
     "output_type": "stream",
     "text": [
      "[2.79788315]\n",
      "[2.79788315]\n"
     ]
    }
   ],
   "source": [
    "\n",
    "\n",
    "\n",
    "def gbc_angle(o1,o2,CS,threshold):\n",
    " # still needs **kwargs to enable two misorientation angle choices like MTEX\n",
    " mis = o1*~o2 #angle(orientation(q(Dl),CS),orientation(q(Dr),CS))\n",
    " #print(d.angle)\n",
    " return mis\n",
    "# if np.ndarray.size(threshold) == 1:\n",
    "#  criterion = d.angle < threshold\n",
    "# else:\n",
    "#  criterion = 0.5 * [[d.angle < threshold[1]] + [d.angle < threshold[2]]]\n",
    "#  print(criterion)\n",
    "# return criterion\n",
    "\n",
    "# define as orix orientations and then hit that with o1*~o2\n",
    "\n",
    "#print(o1)\n",
    "#print(s1)\n",
    "#print(5*degree)\n",
    "mis = gbc_angle(o1,o2,s1,5*degree) \n",
    "print(mis.angle)\n"
   ]
  }
 ],
 "metadata": {
  "interpreter": {
   "hash": "46da3fe20f89e3ed5a5285f4d026aaa309de39ce63a816c874be5af3d5abdd29"
  },
  "kernelspec": {
   "display_name": "Python 3 (ipykernel)",
   "language": "python",
   "name": "python3"
  },
  "language_info": {
   "codemirror_mode": {
    "name": "ipython",
    "version": 3
   },
   "file_extension": ".py",
   "mimetype": "text/x-python",
   "name": "python",
   "nbconvert_exporter": "python",
   "pygments_lexer": "ipython3",
   "version": "3.9.12"
  }
 },
 "nbformat": 4,
 "nbformat_minor": 2
}
