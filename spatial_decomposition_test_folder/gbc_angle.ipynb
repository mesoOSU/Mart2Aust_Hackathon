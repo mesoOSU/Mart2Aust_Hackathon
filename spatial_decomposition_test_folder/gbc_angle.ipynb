{
 "cells": [
  {
   "cell_type": "code",
   "execution_count": 34,
   "metadata": {},
   "outputs": [],
   "source": [
    "from orix.quaternion import Orientation\n",
    "from orix.quaternion import symmetry\n",
    "import numpy as np\n",
    "\n",
    "s1 = symmetry.get_point_group(226)\n",
    "\n",
    "degree = np.pi/180\n",
    "\n",
    "# orix wants radians\n",
    "o1 = Orientation.from_euler([10*degree,20*degree,30*degree],symmetry=s1)\n",
    "o2 = Orientation.from_euler([100*degree,200*degree,300*degree],symmetry=s1)"
   ]
  },
  {
   "cell_type": "code",
   "execution_count": 40,
   "metadata": {},
   "outputs": [
    {
     "name": "stdout",
     "output_type": "stream",
     "text": [
      "Orientation (1,) m-3m\n",
      "[[ 0.9254 -0.171   0.0302 -0.3368]]\n"
     ]
    },
    {
     "ename": "TypeError",
     "evalue": "'getset_descriptor' object is not callable",
     "output_type": "error",
     "traceback": [
      "\u001b[0;31m---------------------------------------------------------------------------\u001b[0m",
      "\u001b[0;31mTypeError\u001b[0m                                 Traceback (most recent call last)",
      "\u001b[1;32m/Users/pilchak/PycharmProjects/Hackathon/Mart2Aust_Hackathon/spatial_decomposition_test_folder/gbc_angle.ipynb Cell 2'\u001b[0m in \u001b[0;36m<cell line: 4>\u001b[0;34m()\u001b[0m\n\u001b[1;32m      <a href='vscode-notebook-cell:/Users/pilchak/PycharmProjects/Hackathon/Mart2Aust_Hackathon/spatial_decomposition_test_folder/gbc_angle.ipynb#ch0000000?line=0'>1</a>\u001b[0m \u001b[39m# define as orix orientations and then hit that with o1*~o2\u001b[39;00m\n\u001b[1;32m      <a href='vscode-notebook-cell:/Users/pilchak/PycharmProjects/Hackathon/Mart2Aust_Hackathon/spatial_decomposition_test_folder/gbc_angle.ipynb#ch0000000?line=2'>3</a>\u001b[0m \u001b[39mprint\u001b[39m(o1)\n\u001b[0;32m----> <a href='vscode-notebook-cell:/Users/pilchak/PycharmProjects/Hackathon/Mart2Aust_Hackathon/spatial_decomposition_test_folder/gbc_angle.ipynb#ch0000000?line=3'>4</a>\u001b[0m mis \u001b[39m=\u001b[39m gbc_angle(o1,o2,s1,\u001b[39m5\u001b[39;49m\u001b[39m*\u001b[39;49mdegree) \n\u001b[1;32m      <a href='vscode-notebook-cell:/Users/pilchak/PycharmProjects/Hackathon/Mart2Aust_Hackathon/spatial_decomposition_test_folder/gbc_angle.ipynb#ch0000000?line=4'>5</a>\u001b[0m \u001b[39mprint\u001b[39m(\u001b[39m5\u001b[39m\u001b[39m*\u001b[39mdegree)\n\u001b[1;32m      <a href='vscode-notebook-cell:/Users/pilchak/PycharmProjects/Hackathon/Mart2Aust_Hackathon/spatial_decomposition_test_folder/gbc_angle.ipynb#ch0000000?line=6'>7</a>\u001b[0m \u001b[39mdef\u001b[39;00m \u001b[39mgbc_angle\u001b[39m(o1,o2,CS,threshold):\n",
      "\u001b[1;32m/Users/pilchak/PycharmProjects/Hackathon/Mart2Aust_Hackathon/spatial_decomposition_test_folder/gbc_angle.ipynb Cell 2'\u001b[0m in \u001b[0;36mgbc_angle\u001b[0;34m(o1, o2, CS, threshold)\u001b[0m\n\u001b[1;32m      <a href='vscode-notebook-cell:/Users/pilchak/PycharmProjects/Hackathon/Mart2Aust_Hackathon/spatial_decomposition_test_folder/gbc_angle.ipynb#ch0000000?line=2'>3</a>\u001b[0m \u001b[39mdef\u001b[39;00m \u001b[39mgbc_angle\u001b[39m(o1,o2,CS,threshold):\n\u001b[1;32m      <a href='vscode-notebook-cell:/Users/pilchak/PycharmProjects/Hackathon/Mart2Aust_Hackathon/spatial_decomposition_test_folder/gbc_angle.ipynb#ch0000000?line=3'>4</a>\u001b[0m  d \u001b[39m=\u001b[39m o1\u001b[39m*\u001b[39m\u001b[39m~\u001b[39mo2 \u001b[39m#angle(orientation(q(Dl),CS),orientation(q(Dr),CS))\u001b[39;00m\n\u001b[0;32m----> <a href='vscode-notebook-cell:/Users/pilchak/PycharmProjects/Hackathon/Mart2Aust_Hackathon/spatial_decomposition_test_folder/gbc_angle.ipynb#ch0000000?line=4'>5</a>\u001b[0m  \u001b[39mif\u001b[39;00m np\u001b[39m.\u001b[39;49mndarray\u001b[39m.\u001b[39;49msize(threshold) \u001b[39m==\u001b[39m \u001b[39m1\u001b[39m:\n\u001b[1;32m      <a href='vscode-notebook-cell:/Users/pilchak/PycharmProjects/Hackathon/Mart2Aust_Hackathon/spatial_decomposition_test_folder/gbc_angle.ipynb#ch0000000?line=5'>6</a>\u001b[0m   criterion \u001b[39m=\u001b[39m d \u001b[39m<\u001b[39m threshold\n\u001b[1;32m      <a href='vscode-notebook-cell:/Users/pilchak/PycharmProjects/Hackathon/Mart2Aust_Hackathon/spatial_decomposition_test_folder/gbc_angle.ipynb#ch0000000?line=6'>7</a>\u001b[0m  \u001b[39melse\u001b[39;00m:\n",
      "\u001b[0;31mTypeError\u001b[0m: 'getset_descriptor' object is not callable"
     ]
    }
   ],
   "source": [
    "\n",
    "# define as orix orientations and then hit that with o1*~o2\n",
    "\n",
    "print(o1)\n",
    "mis = gbc_angle(o1,o2,s1,5*degree) \n",
    "print(5*degree)\n",
    "\n",
    "def gbc_angle(o1,o2,CS,threshold):\n",
    "    # still needs **kwargs to enable two misorientation angle choices like MTEX\n",
    " d = o1*~o2 #angle(orientation(q(Dl),CS),orientation(q(Dr),CS))\n",
    " print(d.angle)\n",
    "# if np.ndarray.size(threshold) == 1:\n",
    "#  criterion = d.angle < threshold\n",
    "# else:\n",
    "#  criterion = 0.5 * [[d.angle < threshold[1]] + [d.angle < threshold[2]]]\n",
    "#  print(criterion)\n",
    " return criterion\n",
    "\n"
   ]
  }
 ],
 "metadata": {
  "interpreter": {
   "hash": "46da3fe20f89e3ed5a5285f4d026aaa309de39ce63a816c874be5af3d5abdd29"
  },
  "kernelspec": {
   "display_name": "Python 3.9.12 ('Hackathon')",
   "language": "python",
   "name": "python3"
  },
  "language_info": {
   "codemirror_mode": {
    "name": "ipython",
    "version": 3
   },
   "file_extension": ".py",
   "mimetype": "text/x-python",
   "name": "python",
   "nbconvert_exporter": "python",
   "pygments_lexer": "ipython3",
   "version": "3.9.12"
  },
  "orig_nbformat": 4
 },
 "nbformat": 4,
 "nbformat_minor": 2
}
