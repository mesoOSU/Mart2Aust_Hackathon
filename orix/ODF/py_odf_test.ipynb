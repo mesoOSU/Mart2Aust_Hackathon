{
 "cells": [
  {
   "cell_type": "code",
   "execution_count": 2,
   "metadata": {},
   "outputs": [],
   "source": [
    "import numpy as np\n",
    "from scipy.special import jacobi\n",
    "from math import factorial, sqrt, sin, cos, radians"
   ]
  },
  {
   "cell_type": "code",
   "execution_count": 3,
   "metadata": {},
   "outputs": [
    {
     "name": "stdout",
     "output_type": "stream",
     "text": [
      "0.8535533905932737\n"
     ]
    }
   ],
   "source": [
    "theta = radians(45)\n",
    "l = 1\n",
    "m = 1\n",
    "n = 1\n",
    "\n",
    "### calc reduced matrix elements (d_lmnop)\n",
    "d_lmn = (-1)**(m-n)*sqrt(factorial(l-m)*factorial(l+m)/(factorial(l-n)*factorial(l+n)))*(sin(theta/2))**(m-n)*(cos(theta/2))**(m+n)*jacobi(l-m, m-n, m+n)(cos(theta))\n",
    "print(d_lmn)"
   ]
  },
  {
   "cell_type": "code",
   "execution_count": 2,
   "metadata": {},
   "outputs": [],
   "source": [
    "l = 32\n",
    "dim = 2*l + 1\n",
    "\n",
    "term_1 = np.zeros((dim*dim)) ### term_1 == (-1)**(m-n)\n",
    "term_2 = np.zeros_like(term_1) ### term_2 == sqrt(factorial(l-m)*factorial(l+m)/(factorial(l-n)*factorial(l+n)))\n",
    "term_3 = np.zeros_like(term_1) ### term_3 == (m-n) for (sin(theta/2))**(m-n)\n",
    "term_4 = np.zeros_like(term_1) ### term_4 == (m+n) for (cos(theta/2))**(m+n)\n",
    "# term_5 = np.empty_like(term_1) ### term_5 == jacobi(l-m, m-n, m+n) for jacobi(l-m, m-n, m+n)(cos(theta))\n",
    "term_5 = [np.array([None])]\n",
    "\n",
    "count = -1\n",
    "\n",
    "for m in np.arange(l, -l-1, -1):\n",
    "    # for n in np.arange(m, l):\n",
    "    for n in np.arange(l, -l-1, -1):\n",
    "        count += 1\n",
    "        if (m-n >= 0) and (m+n >= 0):\n",
    "            term_1[count] = (-1)**(m-n)\n",
    "            term_2[count] = sqrt(factorial(l-m)*factorial(l+m)/(factorial(l-n)*factorial(l+n)))\n",
    "            term_3[count] = (m-n)\n",
    "            term_4[count] = (m+n)\n",
    "            term_5.append(jacobi(l-m, m-n, m+n))\n",
    "        else:\n",
    "            term_5.append(None)\n",
    "\n",
    "term_5 = term_5[1:]\n",
    "\n",
    "theta = radians(45)\n",
    "d_lmnop = np.zeros((dim*dim))\n",
    "\n",
    "for i in np.arange(d_lmnop.size):\n",
    "    if term_5[i] is None:\n",
    "        d_lmnop[i] = 0\n",
    "    else:\n",
    "        d_lmnop[i] = term_1[i]*term_2[i]*(sin(theta/2)**term_3[i])*(cos(theta/2)**term_4[i])*term_5[i](cos(theta))\n"
   ]
  },
  {
   "cell_type": "code",
   "execution_count": 2,
   "metadata": {},
   "outputs": [],
   "source": [
    "###################"
   ]
  },
  {
   "cell_type": "code",
   "execution_count": 2,
   "metadata": {},
   "outputs": [],
   "source": [
    "def precalc_reduced_terms(l):\n",
    "\n",
    "    dim = 2*l + 1\n",
    "\n",
    "    term_0 = np.zeros((dim*dim)) ### term_0 == (-1)**(m-n)\n",
    "    term_1 = np.zeros_like(term_0) ### term_1 == sqrt(factorial(l-m)*factorial(l+m)/(factorial(l-n)*factorial(l+n)))\n",
    "    term_2 = np.zeros_like(term_0) ### term_2 == (m-n) for (sin(theta/2))**(m-n)\n",
    "    term_3 = np.zeros_like(term_0) ### term_3 == (m+n) for (cos(theta/2))**(m+n)\n",
    "    term_4 = [np.array([None], dtype=object)] ### term_4 == jacobi(l-m, m-n, m+n) for jacobi(l-m, m-n, m+n)(cos(theta))\n",
    "    term_m = np.zeros_like(term_0)\n",
    "    term_n = np.zeros_like(term_0)\n",
    "\n",
    "    count = -1\n",
    "\n",
    "    for m in np.arange(l, -l-1, -1):\n",
    "        # for n in np.arange(m, l):\n",
    "        for n in np.arange(l, -l-1, -1):\n",
    "            count += 1\n",
    "            term_m[count] = m\n",
    "            term_n[count] = n\n",
    "            if (m-n >= 0) and (m+n >= 0):\n",
    "                term_0[count] = (-1)**(m-n)\n",
    "                term_1[count] = sqrt(factorial(l-m)*factorial(l+m)/(factorial(l-n)*factorial(l+n)))\n",
    "                term_2[count] = (m-n)\n",
    "                term_3[count] = (m+n)\n",
    "                term_4.append(jacobi(l-m, m-n, m+n))\n",
    "                # term_4 = np.append(term_4, jacobi(l-m, m-n, m+n))\n",
    "            else:\n",
    "                # term_4.append(None)\n",
    "                term_4.append(0)\n",
    "                # term_4 = np.append(term_4, None)\n",
    "\n",
    "    term_4 = term_4[1:]\n",
    "\n",
    "    return [term_0, term_1, term_2, term_3, term_4, term_m, term_n]"
   ]
  },
  {
   "cell_type": "code",
   "execution_count": 3,
   "metadata": {},
   "outputs": [],
   "source": [
    "def calc_reduced_mtx_d(theta, terms):\n",
    "    # d_lmnop = np.zeros_like(terms[0])\n",
    "\n",
    "    d_lmnop = np.asarray([terms[0][i]*terms[1][i]*(sin(theta/2)**terms[2][i])*(cos(theta/2)**terms[3][i])*terms[4][i](cos(theta)) if terms[4][i] !=0 else 0 for (i,_) in enumerate(terms[0])])\n",
    "\n",
    "    return d_lmnop"
   ]
  },
  {
   "cell_type": "code",
   "execution_count": 21,
   "metadata": {},
   "outputs": [],
   "source": [
    "def calc_Wigner_active_rotation_mtx_D(phi1, PHI, phi2, terms):\n",
    "\n",
    "    d_lmnop = calc_reduced_mtx_d(PHI, terms)\n",
    "\n",
    "    D_LMNOP = np.asarray([np.exp(-1j*terms[5][i]*phi1)*d_lmnop[i]*np.exp(-1j*terms[6][i]*phi2) if d_lmnop[i] !=0 else 0 for (i,_) in enumerate(d_lmnop)])\n",
    "\n",
    "    return D_LMNOP"
   ]
  },
  {
   "cell_type": "code",
   "execution_count": 12,
   "metadata": {},
   "outputs": [
    {
     "name": "stderr",
     "output_type": "stream",
     "text": [
      "/opt/anaconda3/lib/python3.9/site-packages/numpy/core/_asarray.py:102: VisibleDeprecationWarning: Creating an ndarray from ragged nested sequences (which is a list-or-tuple of lists-or-tuples-or ndarrays with different lengths or shapes) is deprecated. If you meant to do this, you must specify 'dtype=object' when creating the ndarray.\n",
      "  return array(a, dtype, copy=False, order=order)\n",
      "/opt/anaconda3/lib/python3.9/site-packages/numpy/core/_asarray.py:171: VisibleDeprecationWarning: Creating an ndarray from ragged nested sequences (which is a list-or-tuple of lists-or-tuples-or ndarrays with different lengths or shapes) is deprecated. If you meant to do this, you must specify 'dtype=object' when creating the ndarray.\n",
      "  return array(a, dtype, copy=False, order=order, subok=True)\n"
     ]
    }
   ],
   "source": [
    "l = 32\n",
    "dim = 2*l + 1\n",
    "# d_lmnop = np.zeros((dim*dim))\n",
    "l_vector = np.arange(1,l+1)\n",
    "\n",
    "# terms = precalc_reduced_terms(l)\n",
    "vect_precalc = np.vectorize(precalc_reduced_terms)\n",
    "all_terms = vect_precalc(l_vector)\n",
    "\n",
    "terms = all_terms[0]\n",
    "for i,_ in enumerate(all_terms):\n",
    "    terms[0] = np.append(terms[0], all_terms[i][0])\n",
    "    terms[1] = np.append(terms[1], all_terms[i][1])\n",
    "    terms[2] = np.append(terms[2], all_terms[i][2])\n",
    "    terms[3] = np.append(terms[3], all_terms[i][3])\n",
    "    terms[4] = np.append(terms[4], all_terms[i][4])\n",
    "    terms[5] = np.append(terms[5], all_terms[i][5])\n",
    "    terms[6] = np.append(terms[6], all_terms[i][6])\n"
   ]
  },
  {
   "cell_type": "code",
   "execution_count": 13,
   "metadata": {},
   "outputs": [
    {
     "name": "stdout",
     "output_type": "stream",
     "text": [
      "(47913,)\n"
     ]
    }
   ],
   "source": [
    "theta = radians(45)\n",
    "\n",
    "d_lmnop = calc_reduced_mtx_d(theta, terms)\n",
    "print(d_lmnop.shape)"
   ]
  },
  {
   "cell_type": "code",
   "execution_count": 14,
   "metadata": {},
   "outputs": [
    {
     "name": "stdout",
     "output_type": "stream",
     "text": [
      "(47913,)\n"
     ]
    }
   ],
   "source": [
    "theta = radians(45)\n",
    "\n",
    "d_lmnop = np.zeros_like(terms[0])\n",
    "\n",
    "for i,_ in enumerate(d_lmnop):\n",
    "    if terms[4][i] == 0:\n",
    "        d_lmnop[i] = 0\n",
    "    else:\n",
    "        # d_lmnop[i] = term_1[i]*term_2[i]*(sin(theta/2)**term_3[i])*(cos(theta/2)**term_4[i])*term_5[i](cos(theta))\n",
    "        d_lmnop[i] = terms[0][i]*terms[1][i]*(sin(theta/2)**terms[2][i])*(cos(theta/2)**terms[3][i])*terms[4][i](cos(theta))\n",
    "\n",
    "print(d_lmnop.shape)"
   ]
  },
  {
   "cell_type": "code",
   "execution_count": 20,
   "metadata": {},
   "outputs": [
    {
     "name": "stdout",
     "output_type": "stream",
     "text": [
      "(-0.42677669529663675-0.7391989197401166j)\n"
     ]
    }
   ],
   "source": [
    "phi1 = radians(30)\n",
    "PHI = radians(45)\n",
    "phi2 = radians(90)\n",
    "\n",
    "l = 1\n",
    "m = 1\n",
    "n = 1\n",
    "\n",
    "d_lmn = (-1)**(m-n)*sqrt(factorial(l-m)*factorial(l+m)/(factorial(l-n)*factorial(l+n)))*(sin(PHI/2))**(m-n)*(cos(PHI/2))**(m+n)*jacobi(l-m, m-n, m+n)(cos(PHI))\n",
    "D_LMN = np.exp(-1j*m*phi1)*d_lmn*np.exp(-1j*n*phi2)\n",
    "\n",
    "print(D_LMN)"
   ]
  },
  {
   "cell_type": "code",
   "execution_count": 22,
   "metadata": {},
   "outputs": [],
   "source": [
    "phi1 = radians(30)\n",
    "PHI = radians(45)\n",
    "phi2 = radians(90)\n",
    "\n",
    "D_LMNOP =  calc_Wigner_active_rotation_mtx_D(phi1, PHI, phi2, terms)\n"
   ]
  },
  {
   "cell_type": "code",
   "execution_count": 23,
   "metadata": {},
   "outputs": [
    {
     "name": "stdout",
     "output_type": "stream",
     "text": [
      "(47913,)\n"
     ]
    }
   ],
   "source": [
    "print(D_LMNOP.shape)"
   ]
  },
  {
   "cell_type": "code",
   "execution_count": null,
   "metadata": {},
   "outputs": [],
   "source": []
  }
 ],
 "metadata": {
  "kernelspec": {
   "display_name": "Python 3.9.7 ('base')",
   "language": "python",
   "name": "python3"
  },
  "language_info": {
   "codemirror_mode": {
    "name": "ipython",
    "version": 3
   },
   "file_extension": ".py",
   "mimetype": "text/x-python",
   "name": "python",
   "nbconvert_exporter": "python",
   "pygments_lexer": "ipython3",
   "version": "3.9.7"
  },
  "orig_nbformat": 4,
  "vscode": {
   "interpreter": {
    "hash": "40d3a090f54c6569ab1632332b64b2c03c39dcf918b08424e98f38b5ae0af88f"
   }
  }
 },
 "nbformat": 4,
 "nbformat_minor": 2
}
